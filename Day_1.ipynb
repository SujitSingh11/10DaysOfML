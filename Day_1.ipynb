{
  "nbformat": 4,
  "nbformat_minor": 0,
  "metadata": {
    "colab": {
      "name": "Day_1",
      "provenance": [],
      "collapsed_sections": [],
      "toc_visible": true,
      "authorship_tag": "ABX9TyODwtxjFQdlbYvt4aMz3vvs",
      "include_colab_link": true
    },
    "kernelspec": {
      "name": "python3",
      "display_name": "Python 3"
    }
  },
  "cells": [
    {
      "cell_type": "markdown",
      "metadata": {
        "id": "view-in-github",
        "colab_type": "text"
      },
      "source": [
        "<a href=\"https://colab.research.google.com/github/baby-developer/10DaysOfML/blob/master/Day_1.ipynb\" target=\"_parent\"><img src=\"https://colab.research.google.com/assets/colab-badge.svg\" alt=\"Open In Colab\"/></a>"
      ]
    },
    {
      "cell_type": "markdown",
      "metadata": {
        "id": "1CAi9y3nXx9o",
        "colab_type": "text"
      },
      "source": [
        "# Task For Day 1\n",
        "Day1:\n",
        "Machine Learning Tools - Numpy, Pandas, Matplotlib \n",
        "- Numpy Documentation: https://numpy.org/devdocs/\n",
        "- Pandas Documentation: https://pandas.pydata.org/docs/\n",
        "- Matplotlib: https://matplotlib.org/contents.html\n",
        "\n",
        "Dataset link: https://data.humdata.org/hxlproxy/api/data-preview.csv?url=https%3A%2F%2Fraw.githubusercontent.com%2FCSSEGISandData%2FCOVID-19%2Fmaster%2Fcsse_covid_19_data%2Fcsse_covid_19_time_series%2Ftime_series_19-covid-Confirmed.csv&filename=time_series_2019-ncov-Confirmed.csv\n",
        "\n",
        "Task: \n",
        "- Processed the data: On a particular date, If 70% number of confirmed case is zero, then Delete the column. i.e. whole February will be deleted and few more.\n",
        "- Plot the data like:\n",
        " - Country wise like (select any one date)\n",
        "   - x: country\n",
        "   - y: number of case\n",
        " - Date wise (select any country)\n",
        "   - x: Date\n",
        "   - y: number of case\n",
        " - Continent wise (select any date)\n",
        "   - x: set of country (Asia, Europe, America etc)\n",
        "   - y: number of case"
      ]
    },
    {
      "cell_type": "markdown",
      "metadata": {
        "id": "jvysXRJUYOt9",
        "colab_type": "text"
      },
      "source": [
        "# Importing Libraries "
      ]
    },
    {
      "cell_type": "code",
      "metadata": {
        "id": "I0LWbM2ZYXsp",
        "colab_type": "code",
        "colab": {}
      },
      "source": [
        "import numpy as np\n",
        "import pandas as pd\n",
        "from google.colab import files\n",
        "import matplotlib.pyplot as plt\n",
        "import seaborn as sns"
      ],
      "execution_count": 0,
      "outputs": []
    },
    {
      "cell_type": "markdown",
      "metadata": {
        "id": "m-Km5hCDY3pb",
        "colab_type": "text"
      },
      "source": [
        "# Uploading Dataset and reading it via Pandas"
      ]
    },
    {
      "cell_type": "code",
      "metadata": {
        "id": "RSvHWToRZE-4",
        "colab_type": "code",
        "outputId": "34d09dd3-ac14-4bcb-bd26-2ca21c473ebb",
        "colab": {
          "resources": {
            "http://localhost:8080/nbextensions/google.colab/files.js": {
              "data": "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",
              "ok": true,
              "headers": [
                [
                  "content-type",
                  "application/javascript"
                ]
              ],
              "status": 200,
              "status_text": ""
            }
          },
          "base_uri": "https://localhost:8080/",
          "height": 57
        }
      },
      "source": [
        "upload = files.upload()"
      ],
      "execution_count": 0,
      "outputs": [
        {
          "output_type": "display_data",
          "data": {
            "text/html": [
              "\n",
              "     <input type=\"file\" id=\"files-ef62bea1-bce8-4607-86df-901d00d3bf7f\" name=\"files[]\" multiple disabled />\n",
              "     <output id=\"result-ef62bea1-bce8-4607-86df-901d00d3bf7f\">\n",
              "      Upload widget is only available when the cell has been executed in the\n",
              "      current browser session. Please rerun this cell to enable.\n",
              "      </output>\n",
              "      <script src=\"/nbextensions/google.colab/files.js\"></script> "
            ],
            "text/plain": [
              "<IPython.core.display.HTML object>"
            ]
          },
          "metadata": {
            "tags": []
          }
        },
        {
          "output_type": "stream",
          "text": [
            "Saving time_series_2019-ncov-Confirmed.csv to time_series_2019-ncov-Confirmed.csv\n"
          ],
          "name": "stdout"
        }
      ]
    },
    {
      "cell_type": "code",
      "metadata": {
        "id": "9Lkqn_2OZ5Ow",
        "colab_type": "code",
        "colab": {}
      },
      "source": [
        "dataSet = pd.read_csv('time_series_2019-ncov-Confirmed.csv')"
      ],
      "execution_count": 0,
      "outputs": []
    },
    {
      "cell_type": "code",
      "metadata": {
        "id": "oUMf1dYHgxX3",
        "colab_type": "code",
        "outputId": "7caeec46-571c-4711-dfa5-93bbc94dfeb7",
        "colab": {
          "base_uri": "https://localhost:8080/",
          "height": 723
        }
      },
      "source": [
        "dataSet.head(20)"
      ],
      "execution_count": 211,
      "outputs": [
        {
          "output_type": "execute_result",
          "data": {
            "text/html": [
              "<div>\n",
              "<style scoped>\n",
              "    .dataframe tbody tr th:only-of-type {\n",
              "        vertical-align: middle;\n",
              "    }\n",
              "\n",
              "    .dataframe tbody tr th {\n",
              "        vertical-align: top;\n",
              "    }\n",
              "\n",
              "    .dataframe thead th {\n",
              "        text-align: right;\n",
              "    }\n",
              "</style>\n",
              "<table border=\"1\" class=\"dataframe\">\n",
              "  <thead>\n",
              "    <tr style=\"text-align: right;\">\n",
              "      <th></th>\n",
              "      <th>Province/State</th>\n",
              "      <th>Country/Region</th>\n",
              "      <th>Lat</th>\n",
              "      <th>Long</th>\n",
              "      <th>3/4/20</th>\n",
              "      <th>3/5/20</th>\n",
              "      <th>3/6/20</th>\n",
              "      <th>3/7/20</th>\n",
              "      <th>3/8/20</th>\n",
              "      <th>3/9/20</th>\n",
              "      <th>3/10/20</th>\n",
              "      <th>3/11/20</th>\n",
              "      <th>3/12/20</th>\n",
              "      <th>3/13/20</th>\n",
              "      <th>3/14/20</th>\n",
              "      <th>3/15/20</th>\n",
              "      <th>3/16/20</th>\n",
              "      <th>3/17/20</th>\n",
              "      <th>3/18/20</th>\n",
              "      <th>3/19/20</th>\n",
              "      <th>3/20/20</th>\n",
              "      <th>3/21/20</th>\n",
              "      <th>3/22/20</th>\n",
              "    </tr>\n",
              "  </thead>\n",
              "  <tbody>\n",
              "    <tr>\n",
              "      <th>0</th>\n",
              "      <td>NaN</td>\n",
              "      <td>Thailand</td>\n",
              "      <td>15.0000</td>\n",
              "      <td>101.0000</td>\n",
              "      <td>43</td>\n",
              "      <td>47</td>\n",
              "      <td>48</td>\n",
              "      <td>50</td>\n",
              "      <td>50</td>\n",
              "      <td>50</td>\n",
              "      <td>53</td>\n",
              "      <td>59</td>\n",
              "      <td>70</td>\n",
              "      <td>75</td>\n",
              "      <td>82</td>\n",
              "      <td>114</td>\n",
              "      <td>147</td>\n",
              "      <td>177</td>\n",
              "      <td>212</td>\n",
              "      <td>272</td>\n",
              "      <td>322</td>\n",
              "      <td>411</td>\n",
              "      <td>599</td>\n",
              "    </tr>\n",
              "    <tr>\n",
              "      <th>1</th>\n",
              "      <td>NaN</td>\n",
              "      <td>Japan</td>\n",
              "      <td>36.0000</td>\n",
              "      <td>138.0000</td>\n",
              "      <td>331</td>\n",
              "      <td>360</td>\n",
              "      <td>420</td>\n",
              "      <td>461</td>\n",
              "      <td>502</td>\n",
              "      <td>511</td>\n",
              "      <td>581</td>\n",
              "      <td>639</td>\n",
              "      <td>639</td>\n",
              "      <td>701</td>\n",
              "      <td>773</td>\n",
              "      <td>839</td>\n",
              "      <td>825</td>\n",
              "      <td>878</td>\n",
              "      <td>889</td>\n",
              "      <td>924</td>\n",
              "      <td>963</td>\n",
              "      <td>1007</td>\n",
              "      <td>1086</td>\n",
              "    </tr>\n",
              "    <tr>\n",
              "      <th>2</th>\n",
              "      <td>NaN</td>\n",
              "      <td>Singapore</td>\n",
              "      <td>1.2833</td>\n",
              "      <td>103.8333</td>\n",
              "      <td>110</td>\n",
              "      <td>117</td>\n",
              "      <td>130</td>\n",
              "      <td>138</td>\n",
              "      <td>150</td>\n",
              "      <td>150</td>\n",
              "      <td>160</td>\n",
              "      <td>178</td>\n",
              "      <td>178</td>\n",
              "      <td>200</td>\n",
              "      <td>212</td>\n",
              "      <td>226</td>\n",
              "      <td>243</td>\n",
              "      <td>266</td>\n",
              "      <td>313</td>\n",
              "      <td>345</td>\n",
              "      <td>385</td>\n",
              "      <td>432</td>\n",
              "      <td>455</td>\n",
              "    </tr>\n",
              "    <tr>\n",
              "      <th>3</th>\n",
              "      <td>NaN</td>\n",
              "      <td>Nepal</td>\n",
              "      <td>28.1667</td>\n",
              "      <td>84.2500</td>\n",
              "      <td>1</td>\n",
              "      <td>1</td>\n",
              "      <td>1</td>\n",
              "      <td>1</td>\n",
              "      <td>1</td>\n",
              "      <td>1</td>\n",
              "      <td>1</td>\n",
              "      <td>1</td>\n",
              "      <td>1</td>\n",
              "      <td>1</td>\n",
              "      <td>1</td>\n",
              "      <td>1</td>\n",
              "      <td>1</td>\n",
              "      <td>1</td>\n",
              "      <td>1</td>\n",
              "      <td>1</td>\n",
              "      <td>1</td>\n",
              "      <td>1</td>\n",
              "      <td>2</td>\n",
              "    </tr>\n",
              "    <tr>\n",
              "      <th>4</th>\n",
              "      <td>NaN</td>\n",
              "      <td>Malaysia</td>\n",
              "      <td>2.5000</td>\n",
              "      <td>112.5000</td>\n",
              "      <td>50</td>\n",
              "      <td>50</td>\n",
              "      <td>83</td>\n",
              "      <td>93</td>\n",
              "      <td>99</td>\n",
              "      <td>117</td>\n",
              "      <td>129</td>\n",
              "      <td>149</td>\n",
              "      <td>149</td>\n",
              "      <td>197</td>\n",
              "      <td>238</td>\n",
              "      <td>428</td>\n",
              "      <td>566</td>\n",
              "      <td>673</td>\n",
              "      <td>790</td>\n",
              "      <td>900</td>\n",
              "      <td>1030</td>\n",
              "      <td>1183</td>\n",
              "      <td>1306</td>\n",
              "    </tr>\n",
              "    <tr>\n",
              "      <th>5</th>\n",
              "      <td>British Columbia</td>\n",
              "      <td>Canada</td>\n",
              "      <td>49.2827</td>\n",
              "      <td>-123.1207</td>\n",
              "      <td>12</td>\n",
              "      <td>13</td>\n",
              "      <td>21</td>\n",
              "      <td>21</td>\n",
              "      <td>27</td>\n",
              "      <td>32</td>\n",
              "      <td>32</td>\n",
              "      <td>39</td>\n",
              "      <td>46</td>\n",
              "      <td>64</td>\n",
              "      <td>64</td>\n",
              "      <td>73</td>\n",
              "      <td>103</td>\n",
              "      <td>103</td>\n",
              "      <td>186</td>\n",
              "      <td>231</td>\n",
              "      <td>271</td>\n",
              "      <td>424</td>\n",
              "      <td>424</td>\n",
              "    </tr>\n",
              "    <tr>\n",
              "      <th>6</th>\n",
              "      <td>New South Wales</td>\n",
              "      <td>Australia</td>\n",
              "      <td>-33.8688</td>\n",
              "      <td>151.2093</td>\n",
              "      <td>22</td>\n",
              "      <td>22</td>\n",
              "      <td>26</td>\n",
              "      <td>28</td>\n",
              "      <td>38</td>\n",
              "      <td>48</td>\n",
              "      <td>55</td>\n",
              "      <td>65</td>\n",
              "      <td>65</td>\n",
              "      <td>92</td>\n",
              "      <td>112</td>\n",
              "      <td>134</td>\n",
              "      <td>171</td>\n",
              "      <td>210</td>\n",
              "      <td>267</td>\n",
              "      <td>307</td>\n",
              "      <td>353</td>\n",
              "      <td>436</td>\n",
              "      <td>533</td>\n",
              "    </tr>\n",
              "    <tr>\n",
              "      <th>7</th>\n",
              "      <td>Victoria</td>\n",
              "      <td>Australia</td>\n",
              "      <td>-37.8136</td>\n",
              "      <td>144.9631</td>\n",
              "      <td>10</td>\n",
              "      <td>10</td>\n",
              "      <td>10</td>\n",
              "      <td>11</td>\n",
              "      <td>11</td>\n",
              "      <td>15</td>\n",
              "      <td>18</td>\n",
              "      <td>21</td>\n",
              "      <td>21</td>\n",
              "      <td>36</td>\n",
              "      <td>49</td>\n",
              "      <td>57</td>\n",
              "      <td>71</td>\n",
              "      <td>94</td>\n",
              "      <td>121</td>\n",
              "      <td>121</td>\n",
              "      <td>121</td>\n",
              "      <td>229</td>\n",
              "      <td>296</td>\n",
              "    </tr>\n",
              "    <tr>\n",
              "      <th>8</th>\n",
              "      <td>Queensland</td>\n",
              "      <td>Australia</td>\n",
              "      <td>-28.0167</td>\n",
              "      <td>153.4000</td>\n",
              "      <td>11</td>\n",
              "      <td>13</td>\n",
              "      <td>13</td>\n",
              "      <td>13</td>\n",
              "      <td>15</td>\n",
              "      <td>15</td>\n",
              "      <td>18</td>\n",
              "      <td>20</td>\n",
              "      <td>20</td>\n",
              "      <td>35</td>\n",
              "      <td>46</td>\n",
              "      <td>61</td>\n",
              "      <td>68</td>\n",
              "      <td>78</td>\n",
              "      <td>94</td>\n",
              "      <td>144</td>\n",
              "      <td>184</td>\n",
              "      <td>221</td>\n",
              "      <td>221</td>\n",
              "    </tr>\n",
              "    <tr>\n",
              "      <th>9</th>\n",
              "      <td>NaN</td>\n",
              "      <td>Cambodia</td>\n",
              "      <td>11.5500</td>\n",
              "      <td>104.9167</td>\n",
              "      <td>1</td>\n",
              "      <td>1</td>\n",
              "      <td>1</td>\n",
              "      <td>1</td>\n",
              "      <td>2</td>\n",
              "      <td>2</td>\n",
              "      <td>2</td>\n",
              "      <td>3</td>\n",
              "      <td>3</td>\n",
              "      <td>5</td>\n",
              "      <td>7</td>\n",
              "      <td>7</td>\n",
              "      <td>7</td>\n",
              "      <td>33</td>\n",
              "      <td>35</td>\n",
              "      <td>37</td>\n",
              "      <td>51</td>\n",
              "      <td>53</td>\n",
              "      <td>84</td>\n",
              "    </tr>\n",
              "    <tr>\n",
              "      <th>10</th>\n",
              "      <td>NaN</td>\n",
              "      <td>Sri Lanka</td>\n",
              "      <td>7.0000</td>\n",
              "      <td>81.0000</td>\n",
              "      <td>1</td>\n",
              "      <td>1</td>\n",
              "      <td>1</td>\n",
              "      <td>1</td>\n",
              "      <td>1</td>\n",
              "      <td>1</td>\n",
              "      <td>1</td>\n",
              "      <td>2</td>\n",
              "      <td>2</td>\n",
              "      <td>6</td>\n",
              "      <td>10</td>\n",
              "      <td>18</td>\n",
              "      <td>28</td>\n",
              "      <td>44</td>\n",
              "      <td>51</td>\n",
              "      <td>60</td>\n",
              "      <td>73</td>\n",
              "      <td>77</td>\n",
              "      <td>82</td>\n",
              "    </tr>\n",
              "    <tr>\n",
              "      <th>11</th>\n",
              "      <td>NaN</td>\n",
              "      <td>Germany</td>\n",
              "      <td>51.0000</td>\n",
              "      <td>9.0000</td>\n",
              "      <td>262</td>\n",
              "      <td>482</td>\n",
              "      <td>670</td>\n",
              "      <td>799</td>\n",
              "      <td>1040</td>\n",
              "      <td>1176</td>\n",
              "      <td>1457</td>\n",
              "      <td>1908</td>\n",
              "      <td>2078</td>\n",
              "      <td>3675</td>\n",
              "      <td>4585</td>\n",
              "      <td>5795</td>\n",
              "      <td>7272</td>\n",
              "      <td>9257</td>\n",
              "      <td>12327</td>\n",
              "      <td>15320</td>\n",
              "      <td>19848</td>\n",
              "      <td>22213</td>\n",
              "      <td>24873</td>\n",
              "    </tr>\n",
              "    <tr>\n",
              "      <th>12</th>\n",
              "      <td>NaN</td>\n",
              "      <td>Finland</td>\n",
              "      <td>64.0000</td>\n",
              "      <td>26.0000</td>\n",
              "      <td>6</td>\n",
              "      <td>12</td>\n",
              "      <td>15</td>\n",
              "      <td>15</td>\n",
              "      <td>23</td>\n",
              "      <td>30</td>\n",
              "      <td>40</td>\n",
              "      <td>59</td>\n",
              "      <td>59</td>\n",
              "      <td>155</td>\n",
              "      <td>225</td>\n",
              "      <td>244</td>\n",
              "      <td>277</td>\n",
              "      <td>321</td>\n",
              "      <td>336</td>\n",
              "      <td>400</td>\n",
              "      <td>450</td>\n",
              "      <td>523</td>\n",
              "      <td>626</td>\n",
              "    </tr>\n",
              "    <tr>\n",
              "      <th>13</th>\n",
              "      <td>NaN</td>\n",
              "      <td>United Arab Emirates</td>\n",
              "      <td>24.0000</td>\n",
              "      <td>54.0000</td>\n",
              "      <td>27</td>\n",
              "      <td>29</td>\n",
              "      <td>29</td>\n",
              "      <td>45</td>\n",
              "      <td>45</td>\n",
              "      <td>45</td>\n",
              "      <td>74</td>\n",
              "      <td>74</td>\n",
              "      <td>85</td>\n",
              "      <td>85</td>\n",
              "      <td>85</td>\n",
              "      <td>98</td>\n",
              "      <td>98</td>\n",
              "      <td>98</td>\n",
              "      <td>113</td>\n",
              "      <td>140</td>\n",
              "      <td>140</td>\n",
              "      <td>153</td>\n",
              "      <td>153</td>\n",
              "    </tr>\n",
              "    <tr>\n",
              "      <th>14</th>\n",
              "      <td>NaN</td>\n",
              "      <td>Philippines</td>\n",
              "      <td>13.0000</td>\n",
              "      <td>122.0000</td>\n",
              "      <td>3</td>\n",
              "      <td>3</td>\n",
              "      <td>5</td>\n",
              "      <td>6</td>\n",
              "      <td>10</td>\n",
              "      <td>20</td>\n",
              "      <td>33</td>\n",
              "      <td>49</td>\n",
              "      <td>52</td>\n",
              "      <td>64</td>\n",
              "      <td>111</td>\n",
              "      <td>140</td>\n",
              "      <td>142</td>\n",
              "      <td>187</td>\n",
              "      <td>202</td>\n",
              "      <td>217</td>\n",
              "      <td>230</td>\n",
              "      <td>307</td>\n",
              "      <td>380</td>\n",
              "    </tr>\n",
              "    <tr>\n",
              "      <th>15</th>\n",
              "      <td>NaN</td>\n",
              "      <td>India</td>\n",
              "      <td>21.0000</td>\n",
              "      <td>78.0000</td>\n",
              "      <td>28</td>\n",
              "      <td>30</td>\n",
              "      <td>31</td>\n",
              "      <td>34</td>\n",
              "      <td>39</td>\n",
              "      <td>43</td>\n",
              "      <td>56</td>\n",
              "      <td>62</td>\n",
              "      <td>73</td>\n",
              "      <td>82</td>\n",
              "      <td>102</td>\n",
              "      <td>113</td>\n",
              "      <td>119</td>\n",
              "      <td>142</td>\n",
              "      <td>156</td>\n",
              "      <td>194</td>\n",
              "      <td>244</td>\n",
              "      <td>330</td>\n",
              "      <td>396</td>\n",
              "    </tr>\n",
              "    <tr>\n",
              "      <th>16</th>\n",
              "      <td>NaN</td>\n",
              "      <td>Italy</td>\n",
              "      <td>43.0000</td>\n",
              "      <td>12.0000</td>\n",
              "      <td>3089</td>\n",
              "      <td>3858</td>\n",
              "      <td>4636</td>\n",
              "      <td>5883</td>\n",
              "      <td>7375</td>\n",
              "      <td>9172</td>\n",
              "      <td>10149</td>\n",
              "      <td>12462</td>\n",
              "      <td>12462</td>\n",
              "      <td>17660</td>\n",
              "      <td>21157</td>\n",
              "      <td>24747</td>\n",
              "      <td>27980</td>\n",
              "      <td>31506</td>\n",
              "      <td>35713</td>\n",
              "      <td>41035</td>\n",
              "      <td>47021</td>\n",
              "      <td>53578</td>\n",
              "      <td>59138</td>\n",
              "    </tr>\n",
              "    <tr>\n",
              "      <th>17</th>\n",
              "      <td>NaN</td>\n",
              "      <td>Sweden</td>\n",
              "      <td>63.0000</td>\n",
              "      <td>16.0000</td>\n",
              "      <td>35</td>\n",
              "      <td>94</td>\n",
              "      <td>101</td>\n",
              "      <td>161</td>\n",
              "      <td>203</td>\n",
              "      <td>248</td>\n",
              "      <td>355</td>\n",
              "      <td>500</td>\n",
              "      <td>599</td>\n",
              "      <td>814</td>\n",
              "      <td>961</td>\n",
              "      <td>1022</td>\n",
              "      <td>1103</td>\n",
              "      <td>1190</td>\n",
              "      <td>1279</td>\n",
              "      <td>1439</td>\n",
              "      <td>1639</td>\n",
              "      <td>1763</td>\n",
              "      <td>1934</td>\n",
              "    </tr>\n",
              "    <tr>\n",
              "      <th>18</th>\n",
              "      <td>NaN</td>\n",
              "      <td>Spain</td>\n",
              "      <td>40.0000</td>\n",
              "      <td>-4.0000</td>\n",
              "      <td>222</td>\n",
              "      <td>259</td>\n",
              "      <td>400</td>\n",
              "      <td>500</td>\n",
              "      <td>673</td>\n",
              "      <td>1073</td>\n",
              "      <td>1695</td>\n",
              "      <td>2277</td>\n",
              "      <td>2277</td>\n",
              "      <td>5232</td>\n",
              "      <td>6391</td>\n",
              "      <td>7798</td>\n",
              "      <td>9942</td>\n",
              "      <td>11748</td>\n",
              "      <td>13910</td>\n",
              "      <td>17963</td>\n",
              "      <td>20410</td>\n",
              "      <td>25374</td>\n",
              "      <td>28768</td>\n",
              "    </tr>\n",
              "    <tr>\n",
              "      <th>19</th>\n",
              "      <td>South Australia</td>\n",
              "      <td>Australia</td>\n",
              "      <td>-34.9285</td>\n",
              "      <td>138.6007</td>\n",
              "      <td>5</td>\n",
              "      <td>5</td>\n",
              "      <td>7</td>\n",
              "      <td>7</td>\n",
              "      <td>7</td>\n",
              "      <td>7</td>\n",
              "      <td>7</td>\n",
              "      <td>9</td>\n",
              "      <td>9</td>\n",
              "      <td>16</td>\n",
              "      <td>19</td>\n",
              "      <td>20</td>\n",
              "      <td>29</td>\n",
              "      <td>29</td>\n",
              "      <td>37</td>\n",
              "      <td>42</td>\n",
              "      <td>50</td>\n",
              "      <td>67</td>\n",
              "      <td>100</td>\n",
              "    </tr>\n",
              "  </tbody>\n",
              "</table>\n",
              "</div>"
            ],
            "text/plain": [
              "      Province/State        Country/Region      Lat  ...  3/20/20  3/21/20  3/22/20\n",
              "0                NaN              Thailand  15.0000  ...      322      411      599\n",
              "1                NaN                 Japan  36.0000  ...      963     1007     1086\n",
              "2                NaN             Singapore   1.2833  ...      385      432      455\n",
              "3                NaN                 Nepal  28.1667  ...        1        1        2\n",
              "4                NaN              Malaysia   2.5000  ...     1030     1183     1306\n",
              "5   British Columbia                Canada  49.2827  ...      271      424      424\n",
              "6    New South Wales             Australia -33.8688  ...      353      436      533\n",
              "7           Victoria             Australia -37.8136  ...      121      229      296\n",
              "8         Queensland             Australia -28.0167  ...      184      221      221\n",
              "9                NaN              Cambodia  11.5500  ...       51       53       84\n",
              "10               NaN             Sri Lanka   7.0000  ...       73       77       82\n",
              "11               NaN               Germany  51.0000  ...    19848    22213    24873\n",
              "12               NaN               Finland  64.0000  ...      450      523      626\n",
              "13               NaN  United Arab Emirates  24.0000  ...      140      153      153\n",
              "14               NaN           Philippines  13.0000  ...      230      307      380\n",
              "15               NaN                 India  21.0000  ...      244      330      396\n",
              "16               NaN                 Italy  43.0000  ...    47021    53578    59138\n",
              "17               NaN                Sweden  63.0000  ...     1639     1763     1934\n",
              "18               NaN                 Spain  40.0000  ...    20410    25374    28768\n",
              "19   South Australia             Australia -34.9285  ...       50       67      100\n",
              "\n",
              "[20 rows x 23 columns]"
            ]
          },
          "metadata": {
            "tags": []
          },
          "execution_count": 211
        }
      ]
    },
    {
      "cell_type": "markdown",
      "metadata": {
        "id": "8UvqhvUCqnw8",
        "colab_type": "text"
      },
      "source": [
        "# Deleting Columns "
      ]
    },
    {
      "cell_type": "code",
      "metadata": {
        "id": "XFvJnN0GsXHJ",
        "colab_type": "code",
        "outputId": "98e71018-b32a-4594-8c74-6f7318432e6d",
        "colab": {
          "base_uri": "https://localhost:8080/",
          "height": 119
        }
      },
      "source": [
        "dates_cols = dataSet.select_dtypes('int64')\n",
        "dates = dates_cols.columns\n",
        "\n",
        "for date in dates:\n",
        "  zero_percent = dates_cols[date].value_counts(normalize=True) * 100 \n",
        "  zero_percent = zero_percent.loc[zero_percent.index.isin([0])].array\n",
        "  if (zero_percent[0]) > 70:\n",
        "    dataSet = dataSet.drop([date],axis=1)\n",
        "\n",
        "print(\"If 70% number of confirmed case is zero\")\n",
        "dataSet.columns\n"
      ],
      "execution_count": 212,
      "outputs": [
        {
          "output_type": "stream",
          "text": [
            "If 70% number of confirmed case is zero\n"
          ],
          "name": "stdout"
        },
        {
          "output_type": "execute_result",
          "data": {
            "text/plain": [
              "Index(['Province/State', 'Country/Region', 'Lat', 'Long', '3/4/20', '3/5/20',\n",
              "       '3/6/20', '3/7/20', '3/8/20', '3/9/20', '3/10/20', '3/11/20', '3/12/20',\n",
              "       '3/13/20', '3/14/20', '3/15/20', '3/16/20', '3/17/20', '3/18/20',\n",
              "       '3/19/20', '3/20/20', '3/21/20', '3/22/20'],\n",
              "      dtype='object')"
            ]
          },
          "metadata": {
            "tags": []
          },
          "execution_count": 212
        }
      ]
    },
    {
      "cell_type": "markdown",
      "metadata": {
        "id": "zptzfCAXGmjy",
        "colab_type": "text"
      },
      "source": [
        "# Country wise plot"
      ]
    },
    {
      "cell_type": "code",
      "metadata": {
        "id": "r9iuri5VYO4M",
        "colab_type": "code",
        "outputId": "776f0399-6537-467e-951d-8503050a2068",
        "colab": {
          "base_uri": "https://localhost:8080/",
          "height": 51
        }
      },
      "source": [
        "plotData = dataSet.groupby(['Country/Region'])['3/22/20'].sum()\n",
        "cases = []\n",
        "names = []\n",
        "i=0\n",
        "other=0\n",
        "for value in plotData.values:\n",
        "  if(value > 7000):\n",
        "    cases.append(plotData[i])\n",
        "    names.append(plotData.index[i])\n",
        "  else:\n",
        "    other=other+plotData[i]\n",
        "  i=i+1\n",
        "cases.append(other)\n",
        "names.append('Others')\n",
        "print(cases)\n",
        "print(names)\n"
      ],
      "execution_count": 289,
      "outputs": [
        {
          "output_type": "stream",
          "text": [
            "[81397, 16176, 24873, 21638, 59138, 8897, 28768, 7245, 33272, 54551]\n",
            "['China', 'France', 'Germany', 'Iran', 'Italy', 'Korea, South', 'Spain', 'Switzerland', 'US', 'Others']\n"
          ],
          "name": "stdout"
        }
      ]
    },
    {
      "cell_type": "code",
      "metadata": {
        "id": "6WUOnSpDHBAZ",
        "colab_type": "code",
        "outputId": "6e64ab4c-b62b-4ce8-864e-1acd8af9493f",
        "colab": {
          "base_uri": "https://localhost:8080/",
          "height": 421
        }
      },
      "source": [
        "plt.figure(figsize=(15,6))\n",
        "plt.title(\"Number of confimed cases of COVID-19 on 3/22/2020\")\n",
        "plt.xlabel(\"Countries\")\n",
        "plt.ylabel(\"Confirmed Cases\")\n",
        "sns.barplot(x=names,y=cases)"
      ],
      "execution_count": 291,
      "outputs": [
        {
          "output_type": "execute_result",
          "data": {
            "text/plain": [
              "<matplotlib.axes._subplots.AxesSubplot at 0x7fd620624208>"
            ]
          },
          "metadata": {
            "tags": []
          },
          "execution_count": 291
        },
        {
          "output_type": "display_data",
          "data": {
            "image/png": "[encoded data removed]",
            "text/plain": [
              "<Figure size 1080x432 with 1 Axes>"
            ]
          },
          "metadata": {
            "tags": []
          }
        }
      ]
    },
    {
      "cell_type": "markdown",
      "metadata": {
        "id": "XtrzVBytsXeO",
        "colab_type": "text"
      },
      "source": [
        "# Date Wise Plot"
      ]
    },
    {
      "cell_type": "code",
      "metadata": {
        "id": "q2biyI23XHyJ",
        "colab_type": "code",
        "colab": {
          "base_uri": "https://localhost:8080/",
          "height": 85
        },
        "outputId": "30b67098-c278-4e52-843d-da34adb8cd47"
      },
      "source": [
        "dates"
      ],
      "execution_count": 332,
      "outputs": [
        {
          "output_type": "execute_result",
          "data": {
            "text/plain": [
              "Index(['3/4/20', '3/5/20', '3/6/20', '3/7/20', '3/8/20', '3/9/20', '3/10/20',\n",
              "       '3/11/20', '3/12/20', '3/13/20', '3/14/20', '3/15/20', '3/16/20',\n",
              "       '3/17/20', '3/18/20', '3/19/20', '3/20/20', '3/21/20', '3/22/20'],\n",
              "      dtype='object')"
            ]
          },
          "metadata": {
            "tags": []
          },
          "execution_count": 332
        }
      ]
    },
    {
      "cell_type": "code",
      "metadata": {
        "id": "qpoyU85lOiOH",
        "colab_type": "code",
        "colab": {}
      },
      "source": [
        "\n",
        "datePlotSet = dataSet.drop(['Province/State','Lat','Long'],axis=1)\n",
        "t1 = datePlotSet.groupby('Country/Region')['3/4/20'].sum()\n",
        "t1['China']\n",
        "sums = []\n",
        "for plotDate in dates:\n",
        "  t1 = datePlotSet.groupby('Country/Region')[plotDate].sum()\n",
        "  sums.append(t1['US'])\n",
        "\n",
        "\n"
      ],
      "execution_count": 0,
      "outputs": []
    },
    {
      "cell_type": "code",
      "metadata": {
        "id": "wunyiL0osfYY",
        "colab_type": "code",
        "colab": {
          "base_uri": "https://localhost:8080/",
          "height": 421
        },
        "outputId": "2d82be30-37f7-4039-b8cd-06dd864d66e4"
      },
      "source": [
        "plt.figure(figsize=(15,6))\n",
        "plt.title(\"Number of confimed cases of COVID-19 in US\")\n",
        "plt.xlabel(\"Dates\")\n",
        "plt.ylabel(\"Total Cases\")\n",
        "sns.barplot(x=dates,y=sums)"
      ],
      "execution_count": 338,
      "outputs": [
        {
          "output_type": "execute_result",
          "data": {
            "text/plain": [
              "<matplotlib.axes._subplots.AxesSubplot at 0x7fd60c49e9e8>"
            ]
          },
          "metadata": {
            "tags": []
          },
          "execution_count": 338
        },
        {
          "output_type": "display_data",
          "data": {
            "image/png": "[encoded data removed]",
            "text/plain": [
              "<Figure size 1080x432 with 1 Axes>"
            ]
          },
          "metadata": {
            "tags": []
          }
        }
      ]
    },
    {
      "cell_type": "markdown",
      "metadata": {
        "id": "zEgSEwIwc9FN",
        "colab_type": "text"
      },
      "source": [
        "# Continent Wise"
      ]
    }
  ]
}